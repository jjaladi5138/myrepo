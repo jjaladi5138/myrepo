{
 "cells": [
  {
   "cell_type": "code",
   "execution_count": 1,
   "id": "a7ab1eb9",
   "metadata": {},
   "outputs": [
    {
     "name": "stdout",
     "output_type": "stream",
     "text": [
      "1 3 + 5? 8\n",
      "2 7 * 6? 42\n",
      "3 20 / 5? 4.0\n",
      "4 20 / 4? 5.0\n",
      "5 15 - 7? 8\n",
      "6 9 * 9? 81\n",
      "7 27 / 9? 3.0\n",
      "8 100 - 56? 44\n",
      "9 14 + 26? 40\n",
      "10 64 / 8? 8.0\n"
     ]
    }
   ],
   "source": [
    "import requests\n",
    "import json\n",
    "url = \"https://michaelgathara.com/api/python-challenge\"\n",
    "response = requests.get(url)\n",
    "challenges = response.json()\n",
    "ids=[]\n",
    "problems=[]\n",
    "for i in range(len(challenges)):\n",
    "    ids.insert(i,challenges[i]['id'])\n",
    "    problems.insert(i,challenges[i]['problem'])\n",
    "\n",
    "i=0\n",
    "for it in problems:\n",
    "        print(ids[i]  ,problems[i], eval(it[0:len(problems[i])-1]))\n",
    "        i=i+1"
   ]
  },
  {
   "cell_type": "code",
   "execution_count": null,
   "id": "35141ca2",
   "metadata": {},
   "outputs": [],
   "source": []
  }
 ],
 "metadata": {
  "kernelspec": {
   "display_name": "Python 3 (ipykernel)",
   "language": "python",
   "name": "python3"
  },
  "language_info": {
   "codemirror_mode": {
    "name": "ipython",
    "version": 3
   },
   "file_extension": ".py",
   "mimetype": "text/x-python",
   "name": "python",
   "nbconvert_exporter": "python",
   "pygments_lexer": "ipython3",
   "version": "3.10.9"
  }
 },
 "nbformat": 4,
 "nbformat_minor": 5
}
